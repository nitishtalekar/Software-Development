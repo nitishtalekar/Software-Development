{
 "cells": [
  {
   "cell_type": "code",
   "execution_count": 53,
   "metadata": {},
   "outputs": [],
   "source": [
    "#LIBRARIES\n",
    "import pandas as pd\n",
    "import matplotlib.pyplot as plt"
   ]
  },
  {
   "cell_type": "code",
   "execution_count": 54,
   "metadata": {},
   "outputs": [],
   "source": [
    "#READ FILE + DROP NULL COLUMNS\n",
    "df = pd.read_excel('RA.xlsx', header = 7)\n",
    "df = df.drop(['Unnamed: 1','Unnamed: 28','Unnamed: 29'], axis=1)"
   ]
  },
  {
   "cell_type": "code",
   "execution_count": 55,
   "metadata": {},
   "outputs": [],
   "source": [
    "#HEADER LIST\n",
    "col = list(df.columns.values)\n",
    "c = col[:]\n",
    "unclean_column_names = col.copy()\n",
    "col2 = df.iloc[:1,:].values[0]\n",
    "\n",
    "i=2\n",
    "while i < len(col)-3:\n",
    "    x = col[i-1]\n",
    "    while 'Unnamed' in col[i]:\n",
    "        col[i] = x\n",
    "        i = i+1\n",
    "    i = i+1\n",
    "    \n",
    "#INITIALIZE\n",
    "col[0] = 'SEAT NUM'\n",
    "col[i] = 'TOTAL'\n",
    "col[i+1] = 'GPA'\n",
    "col[i+2] = 'RESULT'\n",
    "col2[0] = ''\n",
    "col2[-1] = ''\n",
    "col2[-2] = ''\n",
    "col2[-3] = ''\n",
    "\n",
    "# print(l)\n",
    "cols = list(zip(col,col2))\n",
    "header = [\"-\".join(i).strip('-') for i in cols]\n",
    "\n",
    "col.insert(1,'NAME')  #For Storing orignal order of columns"
   ]
  },
  {
   "cell_type": "code",
   "execution_count": null,
   "metadata": {},
   "outputs": [],
   "source": []
  },
  {
   "cell_type": "code",
   "execution_count": 56,
   "metadata": {},
   "outputs": [],
   "source": [
    "newdf = pd.read_excel('RA.xlsx', header = 6)\n",
    "coursenum = list(newdf.columns)\n",
    "coursenum = [i for i in coursenum if 'Unnamed' not in i][1:-5]\n",
    "subject_names = [i for i in unclean_column_names if 'Unnamed' not in i]\n",
    "subjectcodes = dict(zip(coursenum,subject_names))"
   ]
  },
  {
   "cell_type": "code",
   "execution_count": 57,
   "metadata": {},
   "outputs": [],
   "source": [
    "df = df.rename(columns=dict(zip(c, header)))\n",
    "df = df.iloc[3:,:]\n",
    "df.index = pd.RangeIndex(len(df.index))\n",
    "dfmarks = df.loc[::2]\n",
    "dfnames = df.loc[1::2]\n",
    "\n",
    "\n",
    "# dfmarks.loc[:,'NAME'] = dfnames['SEAT NUM'].values\n",
    "dfmarks.loc[:,'NAME'] = dfnames.loc[:,'SEAT NUM'].values\n",
    "dfmarks.index = pd.RangeIndex(len(dfmarks.index))"
   ]
  },
  {
   "cell_type": "code",
   "execution_count": 58,
   "metadata": {},
   "outputs": [],
   "source": [
    "l = [i for i in dfnames.columns if 'TOT' in i][:-1] + list(dfnames.columns[-3:])\n",
    "dfnames = dfnames.drop(l, axis=1)"
   ]
  },
  {
   "cell_type": "code",
   "execution_count": 59,
   "metadata": {},
   "outputs": [],
   "source": [
    "def clean(x):\n",
    "    if x == 'Ab':\n",
    "        return int(0)\n",
    "    x = list(str(x))\n",
    "    if x[-1] == 'E' or  x[-1] == 'F':\n",
    "        return int(\"\".join(x[:-1]))\n",
    "    else:\n",
    "        return int(\"\".join(x))"
   ]
  },
  {
   "cell_type": "code",
   "execution_count": 60,
   "metadata": {},
   "outputs": [],
   "source": [
    "for i in dfmarks.columns[1:-4]:\n",
    "    dfmarks.loc[:,i] = dfmarks.loc[:,i].apply(clean)"
   ]
  },
  {
   "cell_type": "code",
   "execution_count": 61,
   "metadata": {},
   "outputs": [],
   "source": [
    "dfcolumns = list(dfmarks.columns)\n",
    "totalcols = [dfcolumns[0]] + [i for i in dfcolumns if 'TOT' in i]\n",
    "totalcols = totalcols + dfcolumns[-3:]\n",
    "dftotalmarks = dfmarks.loc[:,totalcols]"
   ]
  },
  {
   "cell_type": "code",
   "execution_count": 62,
   "metadata": {},
   "outputs": [],
   "source": [
    "originalcol = col[:]\n",
    "originalcol = list( dict.fromkeys(originalcol) ) #Stores Original Order of columns"
   ]
  },
  {
   "cell_type": "code",
   "execution_count": 63,
   "metadata": {},
   "outputs": [],
   "source": [
    "#REORDER COLUMNS\n",
    "totalmarkscol = []\n",
    "for i in originalcol:\n",
    "    if i in dftotalmarks.columns:\n",
    "        totalmarkscol.append(i)\n",
    "    elif str(i+str('-TOT')) in dftotalmarks.columns:\n",
    "        totalmarkscol.append(str(i+str('-TOT')))"
   ]
  },
  {
   "cell_type": "code",
   "execution_count": 67,
   "metadata": {},
   "outputs": [],
   "source": [
    "temp = [i for i in coursenum if coursenum[0][:3] in i]"
   ]
  },
  {
   "cell_type": "code",
   "execution_count": 68,
   "metadata": {},
   "outputs": [],
   "source": [
    "subjectcols = list(dftotalmarks)[2:-3]\n",
    "subjectcols = subjectcols[:len(temp)]"
   ]
  },
  {
   "cell_type": "code",
   "execution_count": 69,
   "metadata": {},
   "outputs": [
    {
     "data": {
      "text/plain": [
       "['APPLIED MATHEMATICS III-TOT',\n",
       " 'THERMODYNAMICS-TOT',\n",
       " 'STRENGTH OF MATERIALS-TOT',\n",
       " 'PRODUCTION PROCESS I-TOT',\n",
       " 'MATERIAL TECHNOLOGY-TOT']"
      ]
     },
     "execution_count": 69,
     "metadata": {},
     "output_type": "execute_result"
    }
   ],
   "source": [
    "subjectcols"
   ]
  },
  {
   "cell_type": "code",
   "execution_count": 70,
   "metadata": {},
   "outputs": [
    {
     "data": {
      "text/plain": [
       "['SEAT NUM',\n",
       " 'NAME',\n",
       " 'APPLIED MATHEMATICS III-TOT',\n",
       " 'THERMODYNAMICS-TOT',\n",
       " 'STRENGTH OF MATERIALS-TOT',\n",
       " 'PRODUCTION PROCESS I-TOT',\n",
       " 'MATERIAL TECHNOLOGY-TOT',\n",
       " 'TOTAL',\n",
       " 'GPA',\n",
       " 'RESULT']"
      ]
     },
     "execution_count": 70,
     "metadata": {},
     "output_type": "execute_result"
    }
   ],
   "source": [
    "totalmarkscol = totalmarkscol[:2] + subjectcols + totalmarkscol[-3:]\n",
    "totalmarkscol"
   ]
  },
  {
   "cell_type": "code",
   "execution_count": 71,
   "metadata": {},
   "outputs": [
    {
     "data": {
      "text/html": [
       "<div>\n",
       "<style scoped>\n",
       "    .dataframe tbody tr th:only-of-type {\n",
       "        vertical-align: middle;\n",
       "    }\n",
       "\n",
       "    .dataframe tbody tr th {\n",
       "        vertical-align: top;\n",
       "    }\n",
       "\n",
       "    .dataframe thead th {\n",
       "        text-align: right;\n",
       "    }\n",
       "</style>\n",
       "<table border=\"1\" class=\"dataframe\">\n",
       "  <thead>\n",
       "    <tr style=\"text-align: right;\">\n",
       "      <th></th>\n",
       "      <th>SEAT NUM</th>\n",
       "      <th>NAME</th>\n",
       "      <th>APPLIED MATHEMATICS III-TOT</th>\n",
       "      <th>THERMODYNAMICS-TOT</th>\n",
       "      <th>STRENGTH OF MATERIALS-TOT</th>\n",
       "      <th>PRODUCTION PROCESS I-TOT</th>\n",
       "      <th>MATERIAL TECHNOLOGY-TOT</th>\n",
       "      <th>TOTAL</th>\n",
       "      <th>GPA</th>\n",
       "      <th>RESULT</th>\n",
       "    </tr>\n",
       "  </thead>\n",
       "  <tbody>\n",
       "    <tr>\n",
       "      <th>0</th>\n",
       "      <td>13001</td>\n",
       "      <td>ABHIJITH SHAH  NITA</td>\n",
       "      <td>36</td>\n",
       "      <td>24</td>\n",
       "      <td>30</td>\n",
       "      <td>57</td>\n",
       "      <td>47</td>\n",
       "      <td>344.0</td>\n",
       "      <td>2.96</td>\n",
       "      <td>F</td>\n",
       "    </tr>\n",
       "    <tr>\n",
       "      <th>1</th>\n",
       "      <td>13002</td>\n",
       "      <td>AGRAWAL AKHILESH SANJAY ANURADHA</td>\n",
       "      <td>44</td>\n",
       "      <td>30</td>\n",
       "      <td>50</td>\n",
       "      <td>57</td>\n",
       "      <td>51</td>\n",
       "      <td>366.0</td>\n",
       "      <td>3.69</td>\n",
       "      <td>F</td>\n",
       "    </tr>\n",
       "    <tr>\n",
       "      <th>2</th>\n",
       "      <td>13003</td>\n",
       "      <td>AGRAWAL RONAK ANIL VARSHA</td>\n",
       "      <td>61</td>\n",
       "      <td>53</td>\n",
       "      <td>76</td>\n",
       "      <td>68</td>\n",
       "      <td>64</td>\n",
       "      <td>471.0</td>\n",
       "      <td>7.23</td>\n",
       "      <td>P</td>\n",
       "    </tr>\n",
       "    <tr>\n",
       "      <th>3</th>\n",
       "      <td>13004</td>\n",
       "      <td>ALDAR ROHAN PANDHARINATH SANGITA</td>\n",
       "      <td>40</td>\n",
       "      <td>30</td>\n",
       "      <td>46</td>\n",
       "      <td>43</td>\n",
       "      <td>42</td>\n",
       "      <td>333.0</td>\n",
       "      <td>3.12</td>\n",
       "      <td>F</td>\n",
       "    </tr>\n",
       "    <tr>\n",
       "      <th>4</th>\n",
       "      <td>13005</td>\n",
       "      <td>AWATE TEJAS PANDURANG RANJANA</td>\n",
       "      <td>5</td>\n",
       "      <td>18</td>\n",
       "      <td>30</td>\n",
       "      <td>58</td>\n",
       "      <td>44</td>\n",
       "      <td>323.0</td>\n",
       "      <td>3.65</td>\n",
       "      <td>F</td>\n",
       "    </tr>\n",
       "  </tbody>\n",
       "</table>\n",
       "</div>"
      ],
      "text/plain": [
       "  SEAT NUM                              NAME  APPLIED MATHEMATICS III-TOT  \\\n",
       "0    13001               ABHIJITH SHAH  NITA                           36   \n",
       "1    13002  AGRAWAL AKHILESH SANJAY ANURADHA                           44   \n",
       "2    13003         AGRAWAL RONAK ANIL VARSHA                           61   \n",
       "3    13004  ALDAR ROHAN PANDHARINATH SANGITA                           40   \n",
       "4    13005     AWATE TEJAS PANDURANG RANJANA                            5   \n",
       "\n",
       "   THERMODYNAMICS-TOT  STRENGTH OF MATERIALS-TOT  PRODUCTION PROCESS I-TOT  \\\n",
       "0                  24                         30                        57   \n",
       "1                  30                         50                        57   \n",
       "2                  53                         76                        68   \n",
       "3                  30                         46                        43   \n",
       "4                  18                         30                        58   \n",
       "\n",
       "   MATERIAL TECHNOLOGY-TOT  TOTAL   GPA RESULT  \n",
       "0                       47  344.0  2.96      F  \n",
       "1                       51  366.0  3.69      F  \n",
       "2                       64  471.0  7.23      P  \n",
       "3                       42  333.0  3.12      F  \n",
       "4                       44  323.0  3.65      F  "
      ]
     },
     "execution_count": 71,
     "metadata": {},
     "output_type": "execute_result"
    }
   ],
   "source": [
    "dftotalmarks = dftotalmarks[totalmarkscol]\n",
    "dftotalmarks.head()"
   ]
  },
  {
   "cell_type": "code",
   "execution_count": 81,
   "metadata": {},
   "outputs": [],
   "source": [
    "# dftotalmarks['APPLIED MATHEMATICS III-TOT'].apply(lambda x:int(x>40))\n",
    "# dftotalmarks['THERMODYNAMICS-TOT'].apply(lambda x:int(x>40))\n",
    "# dftotalmarks['STRENGTH OF MATERIALS-TOT'].apply(lambda x:int(x>40))\n",
    "# dftotalmarks['PRODUCTION PROCESS I-TOT'].apply(lambda x:int(x>40))\n",
    "# dftotalmarks['MATERIAL TECHNOLOGY-TOT'].apply(lambda x:int(x>40))"
   ]
  },
  {
   "cell_type": "code",
   "execution_count": null,
   "metadata": {},
   "outputs": [],
   "source": []
  }
 ],
 "metadata": {
  "kernelspec": {
   "display_name": "Python 3",
   "language": "python",
   "name": "python3"
  },
  "language_info": {
   "codemirror_mode": {
    "name": "ipython",
    "version": 3
   },
   "file_extension": ".py",
   "mimetype": "text/x-python",
   "name": "python",
   "nbconvert_exporter": "python",
   "pygments_lexer": "ipython3",
   "version": "3.7.3"
  }
 },
 "nbformat": 4,
 "nbformat_minor": 2
}
