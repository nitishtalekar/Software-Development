{
 "cells": [
  {
   "cell_type": "code",
   "execution_count": null,
   "metadata": {},
   "outputs": [],
   "source": [
    "passing = pd.DataFrame()\n",
    "\n",
    "totalcols = list(dftotalmarks.columns)\n",
    "\n",
    "passing['Topper'] = dftotalmarks.loc[:, 'SGPI'].apply(lambda x: int(float(x) > 9.3))\n",
    "\n",
    "for i in totalcols[2:-3]:\n",
    "    passing[i.replace('TOT', 'PASSED')] = dftotalmarks[i].apply(lambda x: checkpass(x, 40))\n",
    "\n",
    "for i in totalcols[2:-3]:\n",
    "    passing[i.replace('TOT', '40<X<50')] = dftotalmarks[i].apply(lambda x: checkrange(x, 40, 50))\n",
    "    passing[i.replace('TOT', '50<X<60')] = dftotalmarks[i].apply(lambda x: checkrange(x, 50, 60))\n",
    "    passing[i.replace('TOT', 'X>60')] = dftotalmarks[i].apply(lambda x: checkrange(x, 60, 100))\n",
    "\n",
    "passing['SGPI < 40'] = dftotalmarks.loc[:, 'SGPI'].apply(lambda x: int(float(x) < 4))\n",
    "passing['40 < SGPI < 50'] = dftotalmarks.loc[:, 'SGPI'].apply(lambda x: int(float(x) > 3.9 and float(x) < 5.1))\n",
    "passing['50 < SGPI < 60'] = dftotalmarks.loc[:, 'SGPI'].apply(lambda x: int(float(x) > 5.0 and float(x) < 6.1))\n",
    "passing['60 < SGPI < 70'] = dftotalmarks.loc[:, 'SGPI'].apply(lambda x: int(float(x) > 6.0 and float(x) < 7.1))\n",
    "passing['70 < SGPI < 80'] = dftotalmarks.loc[:, 'SGPI'].apply(lambda x: int(float(x) > 7.0 and float(x) < 8.1))\n",
    "passing['80 < SGPI < 90'] = dftotalmarks.loc[:, 'SGPI'].apply(lambda x: int(float(x) > 8.0 and float(x) < 9.1))\n",
    "passing['90 < SGPI < 100'] = dftotalmarks.loc[:, 'SGPI'].apply(lambda x: int(float(x) > 9.0 and float(x) < 10.1))\n",
    "\n",
    "passing['Perfect 100'] = dftotalmarks.loc[:, 'SGPI'].apply(lambda x: int(float(x) == 10))\n",
    "\n",
    "############################################################\n",
    "############################################################\n",
    "\n",
    "# Export Files\n",
    "global final_analysis\n",
    "final_analysis = pd.concat([dftotalmarks, passing], axis = 1)\n",
    "\n",
    "return final_analysis"
   ]
  }
 ],
 "metadata": {
  "kernelspec": {
   "display_name": "Python 3",
   "language": "python",
   "name": "python3"
  },
  "language_info": {
   "codemirror_mode": {
    "name": "ipython",
    "version": 3
   },
   "file_extension": ".py",
   "mimetype": "text/x-python",
   "name": "python",
   "nbconvert_exporter": "python",
   "pygments_lexer": "ipython3",
   "version": "3.7.3"
  }
 },
 "nbformat": 4,
 "nbformat_minor": 2
}
